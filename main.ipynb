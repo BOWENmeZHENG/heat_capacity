{
 "cells": [
  {
   "cell_type": "code",
   "execution_count": 1,
   "id": "8929a90f",
   "metadata": {},
   "outputs": [],
   "source": [
    "import numpy as np\n",
    "import pandas as pd"
   ]
  },
  {
   "cell_type": "code",
   "execution_count": 2,
   "id": "db8d45df",
   "metadata": {},
   "outputs": [],
   "source": [
    "def heat_capacity(energy, T):\n",
    "    energy_mean = np.mean(energy)  # <E>\n",
    "    energy_sq = energy**2 \n",
    "    energy_sq_mean = np.mean(energy_sq)  # <E^2>\n",
    "    k = 8.617e-5  # eV/K\n",
    "    C = k * (energy_sq_mean - energy_mean**2) / (k * T)**2\n",
    "    return C"
   ]
  },
  {
   "cell_type": "code",
   "execution_count": 3,
   "id": "498d3923",
   "metadata": {},
   "outputs": [],
   "source": [
    "# DeePMD\n",
    "USELESS_LINE = 124\n",
    "frames = 1000\n",
    "energies_deepmd = []\n",
    "with open('deepmd.lammps') as f:\n",
    "    for i in range(USELESS_LINE):\n",
    "        line = f.readline()\n",
    "    for i in range(frames):\n",
    "        line = f.readline()\n",
    "        line_list = [float(num_str) for num_str in line.split()]\n",
    "        energy = line_list[1]\n",
    "        energies_deepmd.append(energy)\n",
    "        line = f.readline()\n",
    "energies_deepmd = np.array(energies_deepmd)"
   ]
  },
  {
   "cell_type": "code",
   "execution_count": 4,
   "id": "09642d29",
   "metadata": {},
   "outputs": [],
   "source": [
    "# SNAP 0.4A\n",
    "energies_snap = pd.read_csv('torch_3_4A_20k_5_output.txt', delim_whitespace=True)['energy'].to_numpy()"
   ]
  },
  {
   "cell_type": "code",
   "execution_count": 5,
   "id": "5b457b0f",
   "metadata": {},
   "outputs": [],
   "source": [
    "# DFT\n",
    "energies_dft = pd.read_csv('MD-300-1.ener', delim_whitespace=True)['Pot.[a.u.]'].to_numpy()\n",
    "energies_dft *= 27.211"
   ]
  },
  {
   "cell_type": "code",
   "execution_count": 6,
   "id": "f9f4d018",
   "metadata": {},
   "outputs": [
    {
     "name": "stdout",
     "output_type": "stream",
     "text": [
      "C_deepmd = 4777.1921 J/(mol*K)\n",
      "C_snap = 11787.0510 J/(mol*K)\n",
      "C_dft = 2163.2024 J/(mol*K)\n"
     ]
    }
   ],
   "source": [
    "C_deepmd = heat_capacity(energies_deepmd, 300) * 96491.5666 # unit: J/(mol*K)\n",
    "C_snap = heat_capacity(energies_snap, 300) * 96491.5666\n",
    "C_dft = heat_capacity(energies_dft, 300) * 96491.5666\n",
    "print(f'C_deepmd = {C_deepmd:.4f} J/(mol*K)')\n",
    "print(f'C_snap = {C_snap:.4f} J/(mol*K)')\n",
    "print(f'C_dft = {C_dft:.4f} J/(mol*K)')"
   ]
  },
  {
   "cell_type": "code",
   "execution_count": 7,
   "id": "040a9674",
   "metadata": {},
   "outputs": [
    {
     "name": "stdout",
     "output_type": "stream",
     "text": [
      "C_deepmd_peratom = 14.7444 J/(mol*K)\n",
      "C_snap_peratom = 36.3798 J/(mol*K)\n",
      "C_dft_peratom = 13.3531 J/(mol*K)\n"
     ]
    }
   ],
   "source": [
    "C_deepmd_peratom = C_deepmd / 324\n",
    "C_snap_peratom = C_snap / 324\n",
    "C_dft_peratom = C_dft / 162\n",
    "print(f'C_deepmd_peratom = {C_deepmd_peratom:.4f} J/(mol*K)')\n",
    "print(f'C_snap_peratom = {C_snap_peratom:.4f} J/(mol*K)')\n",
    "print(f'C_dft_peratom = {C_dft_peratom:.4f} J/(mol*K)')"
   ]
  },
  {
   "cell_type": "code",
   "execution_count": 8,
   "id": "d839e6a9",
   "metadata": {},
   "outputs": [],
   "source": [
    "# import matplotlib.pyplot as plt\n",
    "# plt.figure()\n",
    "# plt.title('DeePMD')\n",
    "# plt.plot(energies_deepmd)\n",
    "# plt.show()\n",
    "# plt.figure()\n",
    "# plt.title('SNAP')\n",
    "# plt.plot(energies_snap)\n",
    "# plt.show()"
   ]
  }
 ],
 "metadata": {
  "kernelspec": {
   "display_name": "Python 3 (ipykernel)",
   "language": "python",
   "name": "python3"
  },
  "language_info": {
   "codemirror_mode": {
    "name": "ipython",
    "version": 3
   },
   "file_extension": ".py",
   "mimetype": "text/x-python",
   "name": "python",
   "nbconvert_exporter": "python",
   "pygments_lexer": "ipython3",
   "version": "3.9.7"
  }
 },
 "nbformat": 4,
 "nbformat_minor": 5
}
